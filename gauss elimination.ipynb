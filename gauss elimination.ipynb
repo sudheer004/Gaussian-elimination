{
 "cells": [
  {
   "cell_type": "code",
   "execution_count": 9,
   "id": "b67acc0d",
   "metadata": {},
   "outputs": [],
   "source": [
    "import numpy as np\n",
    "import math\n",
    "A = np.array([[1,1,1,1,1,1],[3,-3,4,8,-9,3],[-1,1,3,0,-2,6],[2,7,8,-9,-4,-2],[3,0,-1,-6,7,2],[-6,5,3,8,-3,7]])\n",
    "B = np.array([7000,9000,6000,4000,8,8])\n",
    "\n",
    "df = np.hstack((A, np.expand_dims(B, axis=1)))\n",
    "cnt = len(A)\n",
    "i=0\n",
    "while(cnt):\n",
    "  pivot = df[i][i]\n",
    "  # print(pivot)\n",
    "  if(i<=len(A)-1):\n",
    "    k=i+1\n",
    "    while(k<=len(A)-1):\n",
    "      if(pivot != 0):\n",
    "        if(df[k][i]!=0):\n",
    "          if(pivot<0):\n",
    "            df[i] = -1 * df[i]\n",
    "            pivot = -1*pivot\n",
    "          if(df[k][i]<0):      \n",
    "            df[k] = -1 * df[k]\n",
    "          if (math.lcm(pivot , df[k][i])==pivot*df[k][i]):\n",
    "            df[k]=(pivot* df[k]) - (df[k][i]* df[i])\n",
    "          else:\n",
    "            fac = max(pivot , df[k][i]) / min(pivot , df[k][i])\n",
    "            if(max(pivot , df[k][i]))== df[k][i]:\n",
    "              df[k] = df[k] - fac*df[i]\n",
    "            else:\n",
    "              df[k] = fac*df[k] - df[i]\n",
    "      else:\n",
    "      #  print(i)\n",
    "        p=i+1\n",
    "        while(p<=len(A)-1):\n",
    "          if(df[p][i]!=0):\n",
    "            temp = df[i].copy()\n",
    "            # print(temp,i,p)\n",
    "            df[i] = df[p]\n",
    "            df[p] = temp\n",
    "            k=k-1\n",
    "            i=i-1\n",
    "            break\n",
    "          p=p+1\n",
    "      k+=1\n",
    "  i += 1\n",
    "  cnt -=1"
   ]
  },
  {
   "cell_type": "code",
   "execution_count": 10,
   "id": "1f4f44c8",
   "metadata": {},
   "outputs": [
    {
     "data": {
      "text/plain": [
       "array([[     1,      1,      1,      1,      1,      1,      7],\n",
       "       [     0,      6,     -1,     -5,     12,      0,     12],\n",
       "       [     0,      0,     13,      8,    -15,     21,     27],\n",
       "       [     0,      0,      0,    861,    633,   1173,   2667],\n",
       "       [     0,      0,      0,      0, 251316, 406614, 657930],\n",
       "       [     0,      0,      0,      0,      0, -42826, -42567]])"
      ]
     },
     "execution_count": 10,
     "metadata": {},
     "output_type": "execute_result"
    }
   ],
   "source": [
    "df"
   ]
  },
  {
   "cell_type": "markdown",
   "id": "188bf623",
   "metadata": {},
   "source": [
    " "
   ]
  },
  {
   "cell_type": "code",
   "execution_count": 11,
   "id": "cf30807f",
   "metadata": {},
   "outputs": [],
   "source": [
    "A = df[:,:len(A[0])]\n",
    "B = df[:,len(list(B))]\n"
   ]
  },
  {
   "cell_type": "code",
   "execution_count": 13,
   "id": "8835d7bb",
   "metadata": {},
   "outputs": [
    {
     "data": {
      "text/plain": [
       "array([1.99009689, 0.98470424, 1.02041624, 1.00104549, 1.00978486,\n",
       "       0.99395227])"
      ]
     },
     "execution_count": 13,
     "metadata": {},
     "output_type": "execute_result"
    }
   ],
   "source": [
    "np.linalg.solve(A,B)"
   ]
  },
  {
   "cell_type": "code",
   "execution_count": null,
   "id": "3fdcf9d6",
   "metadata": {},
   "outputs": [],
   "source": []
  }
 ],
 "metadata": {
  "kernelspec": {
   "display_name": "Python 3 (ipykernel)",
   "language": "python",
   "name": "python3"
  },
  "language_info": {
   "codemirror_mode": {
    "name": "ipython",
    "version": 3
   },
   "file_extension": ".py",
   "mimetype": "text/x-python",
   "name": "python",
   "nbconvert_exporter": "python",
   "pygments_lexer": "ipython3",
   "version": "3.9.12"
  }
 },
 "nbformat": 4,
 "nbformat_minor": 5
}
